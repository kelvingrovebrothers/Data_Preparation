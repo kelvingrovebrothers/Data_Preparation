{
 "cells": [
  {
   "cell_type": "markdown",
   "id": "65d2d172",
   "metadata": {},
   "source": [
    "# KEGUNAAN REGEX"
   ]
  },
  {
   "cell_type": "markdown",
   "id": "aa3c2616",
   "metadata": {},
   "source": [
    "# Mencari Semua Pola Tertentu dalam String"
   ]
  },
  {
   "cell_type": "code",
   "execution_count": null,
   "id": "c38fb15b",
   "metadata": {},
   "outputs": [],
   "source": [
    "import re\n",
    "\n",
    "text = \"apple, banana, orange, abalone\"\n",
    "result = re.findall(r'\\ba[a-z]*e\\b', text)\n",
    "print(result)"
   ]
  },
  {
   "cell_type": "markdown",
   "id": "9666f9d3",
   "metadata": {},
   "source": [
    "# Mengganti Teks dengan Pola Tertentu:"
   ]
  },
  {
   "cell_type": "code",
   "execution_count": null,
   "id": "82a20dca",
   "metadata": {},
   "outputs": [],
   "source": [
    "text = \"There are 123 apples and 10 oranges\"\n",
    "modified_text = re.sub(r'\\d+', 'NUM', text)\n",
    "print(modified_text)"
   ]
  },
  {
   "cell_type": "markdown",
   "id": "0f744064",
   "metadata": {},
   "source": [
    "# Membagi String Berdasarkan Pola Tertentu:"
   ]
  },
  {
   "cell_type": "code",
   "execution_count": null,
   "id": "f4c913ed",
   "metadata": {},
   "outputs": [],
   "source": [
    "text = \"apple, banana orange\"\n",
    "result = re.split(r'[,\\s]+', text)\n",
    "print(result)"
   ]
  },
  {
   "cell_type": "markdown",
   "id": "667f8978",
   "metadata": {},
   "source": [
    "# Mencari Pola dengan Kelompok:"
   ]
  },
  {
   "cell_type": "code",
   "execution_count": null,
   "id": "42bfa9b1",
   "metadata": {},
   "outputs": [],
   "source": [
    "text = \"My numbers are 123-4567 and 987-6543\"\n",
    "result = re.findall(r'(\\d+)-(\\d+)', text)\n",
    "print(result)  # [('123', '4567'), ('987', '6543')]"
   ]
  },
  {
   "cell_type": "markdown",
   "id": "08846c66",
   "metadata": {},
   "source": [
    "# Mengecek Apakah String Sesuai dengan Pola:"
   ]
  },
  {
   "cell_type": "code",
   "execution_count": null,
   "id": "41f4d841",
   "metadata": {},
   "outputs": [],
   "source": [
    "email = \"example@email.com\"\n",
    "if re.match(r'^[a-zA-Z0-9._%+-]+@[a-zA-Z0-9.-]+\\.[a-zA-Z]{2,}$', email):\n",
    "    print(\"Valid email\")\n",
    "else:\n",
    "    print(\"Invalid email\")"
   ]
  },
  {
   "cell_type": "markdown",
   "id": "1d99fdbf",
   "metadata": {},
   "source": [
    "# Menggunakan Flag:"
   ]
  },
  {
   "cell_type": "code",
   "execution_count": null,
   "id": "8356e435",
   "metadata": {},
   "outputs": [],
   "source": [
    "text = \"Apple, Banana, orange\"\n",
    "result = re.findall(r'\\b[a]\\w+\\b', text, re.IGNORECASE)\n",
    "print(result)  # ['Apple', 'Banana', 'orange']"
   ]
  },
  {
   "cell_type": "code",
   "execution_count": null,
   "id": "d29175ab",
   "metadata": {},
   "outputs": [],
   "source": [
    "import pandas as pd\n",
    "\n",
    "# Contoh data\n",
    "df1 = pd.DataFrame({\n",
    "    'A': ['A0', 'A1', 'A2', 'A3'],\n",
    "    'B': ['B0', 'B1', 'B2', 'B3'],\n",
    "})\n",
    "\n",
    "df2 = pd.DataFrame({\n",
    "    'A': ['A4', 'A5', 'A6', 'A7'],\n",
    "    'B': ['B4', 'B5', 'B6', 'B7'],\n",
    "})\n",
    "\n",
    "# Menggabungkan dataset secara vertikal\n",
    "result = pd.concat([df1, df2], ignore_index=True)\n",
    "print(result)\n"
   ]
  },
  {
   "cell_type": "code",
   "execution_count": null,
   "id": "8803a835",
   "metadata": {},
   "outputs": [],
   "source": [
    "import pandas as pd\n",
    "\n",
    "# Contoh data dengan indeks berulang\n",
    "df1 = pd.DataFrame({\n",
    "    'A': ['A0', 'A1', 'A2', 'A3'],\n",
    "    'B': ['B0', 'B1', 'B2', 'B3'],\n",
    "}, index=[0, 1, 2, 3])\n",
    "\n",
    "df2 = pd.DataFrame({\n",
    "    'A': ['A4', 'A5', 'A6', 'A7'],\n",
    "    'B': ['B4', 'B5', 'B6', 'B7'],\n",
    "}, index=[2, 3, 4, 5])\n",
    "\n",
    "# Menggabungkan tanpa menggunakan ignore_index\n",
    "result_with_index = pd.concat([df1, df2])\n",
    "print(\"With Original Index:\\n\", result_with_index)\n",
    "\n",
    "# Menggabungkan dengan menggunakan ignore_index\n",
    "result_with_reset_index = pd.concat([df1, df2], ignore_index=True)\n",
    "print(\"\\nWith Reset Index:\\n\", result_with_reset_index)\n"
   ]
  },
  {
   "cell_type": "code",
   "execution_count": null,
   "id": "2c9f7268",
   "metadata": {},
   "outputs": [],
   "source": [
    "# Contoh data\n",
    "df = pd.DataFrame({\n",
    "    'id': [1, 2, 3],\n",
    "    'A': ['A0', 'A1', 'A2'],\n",
    "    'B': ['B0', 'B1', 'B2']\n",
    "})\n",
    "\n",
    "# Menggunakan melt\n",
    "melted = pd.melt(df, id_vars=['id'], value_vars=['A', 'B'])\n",
    "print(melted)\n"
   ]
  },
  {
   "cell_type": "code",
   "execution_count": null,
   "id": "4bc9e54e",
   "metadata": {},
   "outputs": [],
   "source": [
    "# Menggunakan pivot pada data yang telah di-melt\n",
    "pivoted = melted.pivot(index='id', columns='variable', values='value').reset_index()\n",
    "print(pivoted)\n"
   ]
  },
  {
   "cell_type": "code",
   "execution_count": null,
   "id": "afc80155",
   "metadata": {},
   "outputs": [],
   "source": [
    "import pandas as pd\n",
    "import numpy as np\n",
    "\n",
    "# Membuat DataFrame contoh\n",
    "df = pd.DataFrame({\n",
    "    'A': [1, 2, None, 4, 5],\n",
    "    'B': [np.nan, 2, 3, 4, 5],\n",
    "    'C': [1, 2, 3, 4, np.NaN]\n",
    "})\n",
    "\n",
    "print(df)\n",
    "print(df.isna())\n",
    "Print(df.isnull())\n"
   ]
  },
  {
   "cell_type": "code",
   "execution_count": null,
   "id": "51ae59ae",
   "metadata": {},
   "outputs": [],
   "source": [
    "import pandas as pd\n",
    "\n",
    "# Membuat DataFrame dengan data yang hilang\n",
    "df = pd.DataFrame({\n",
    "    'A': [1, 2, None, 4, 5],\n",
    "    'B': [None, 2, 3, 4, 5],\n",
    "    'C': [1, 2, 3, 4, None]\n",
    "})\n",
    "\n",
    "print(df.isna())"
   ]
  },
  {
   "cell_type": "code",
   "execution_count": 28,
   "id": "fdbdc173",
   "metadata": {},
   "outputs": [
    {
     "name": "stdout",
     "output_type": "stream",
     "text": [
      "   Warna_Biru  Warna_Hijau  Warna_Merah\n",
      "0         0.0          0.0          1.0\n",
      "1         0.0          1.0          0.0\n",
      "2         1.0          0.0          0.0\n",
      "3         0.0          0.0          1.0\n"
     ]
    }
   ],
   "source": [
    "import pandas as pd\n",
    "from sklearn.preprocessing import OneHotEncoder\n",
    "\n",
    "# Contoh data\n",
    "df = pd.DataFrame({\n",
    "    'Warna': ['Merah', 'Hijau', 'Biru', 'Merah']\n",
    "})\n",
    "\n",
    "# Menerapkan OneHotEncoder\n",
    "encoder = OneHotEncoder(sparse_output=False)\n",
    "encoded_features = encoder.fit_transform(df[['Warna']])\n",
    "encoded_df = pd.DataFrame(encoded_features, columns=encoder.get_feature_names_out(['Warna']))\n",
    "\n",
    "\n",
    "print(encoded_df)\n"
   ]
  },
  {
   "cell_type": "code",
   "execution_count": 33,
   "id": "2a3131a4",
   "metadata": {},
   "outputs": [
    {
     "name": "stdout",
     "output_type": "stream",
     "text": [
      "   Warna  Warna_encoded\n",
      "0  Merah              2\n",
      "1  Hijau              1\n",
      "2   Biru              0\n",
      "3  Merah              2\n",
      "   Warna  Warna_encoded\n",
      "0  Merah              2\n",
      "1  Hijau              1\n",
      "2   Biru              0\n"
     ]
    }
   ],
   "source": [
    "from sklearn.preprocessing import LabelEncoder\n",
    "\n",
    "# Contoh data\n",
    "df = pd.DataFrame({\n",
    "    'Warna': ['Merah', 'Hijau', 'Biru', 'Merah'] #, 'Jingga'\n",
    "})\n",
    "\n",
    "# Menerapkan LabelEncoder\n",
    "encoder = LabelEncoder()\n",
    "df['Warna_encoded'] = encoder.fit_transform(df['Warna'])\n",
    "\n",
    "print(df)\n",
    "print(df.drop_duplicates())"
   ]
  },
  {
   "cell_type": "code",
   "execution_count": null,
   "id": "56615b59",
   "metadata": {},
   "outputs": [],
   "source": []
  }
 ],
 "metadata": {
  "kernelspec": {
   "display_name": "Python 3 (ipykernel)",
   "language": "python",
   "name": "python3"
  },
  "language_info": {
   "codemirror_mode": {
    "name": "ipython",
    "version": 3
   },
   "file_extension": ".py",
   "mimetype": "text/x-python",
   "name": "python",
   "nbconvert_exporter": "python",
   "pygments_lexer": "ipython3",
   "version": "3.11.3"
  }
 },
 "nbformat": 4,
 "nbformat_minor": 5
}
