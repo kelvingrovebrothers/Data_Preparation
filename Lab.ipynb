{
 "cells": [
  {
   "cell_type": "markdown",
   "metadata": {},
   "source": [
    "# DAY 01"
   ]
  },
  {
   "cell_type": "markdown",
   "metadata": {},
   "source": [
    "* List Comprehension Sederhana"
   ]
  },
  {
   "cell_type": "code",
   "execution_count": 14,
   "metadata": {},
   "outputs": [
    {
     "name": "stdout",
     "output_type": "stream",
     "text": [
      "[1, 2, 3, 4, 5, 6, 7, 8, 9, 10, 11, 12, 13, 14, 15, 16, 17, 18, 19, 20, 21, 22, 23, 24, 25, 26, 27, 28, 29, 30, 31, 32, 33, 34, 35, 36, 37, 38, 39, 40, 41, 42, 43, 44, 45, 46, 47, 48, 49, 50, 51, 52, 53, 54, 55, 56, 57, 58, 59, 60, 61, 62, 63, 64, 65, 66, 67, 68, 69, 70, 71, 72, 73, 74, 75, 76, 77, 78, 79, 80, 81, 82, 83, 84, 85, 86, 87, 88, 89, 90, 91, 92, 93, 94, 95, 96, 97, 98, 99, 100]\n"
     ]
    }
   ],
   "source": [
    "listBaru=[]\n",
    "for x in range(1,101):\n",
    "    listBaru.append(x)\n",
    "print(listBaru)"
   ]
  },
  {
   "cell_type": "code",
   "execution_count": 15,
   "metadata": {},
   "outputs": [
    {
     "name": "stdout",
     "output_type": "stream",
     "text": [
      "[1, 2, 3, 4, 5, 6, 7, 8, 9, 10, 11, 12, 13, 14, 15, 16, 17, 18, 19, 20, 21, 22, 23, 24, 25, 26, 27, 28, 29, 30, 31, 32, 33, 34, 35, 36, 37, 38, 39, 40, 41, 42, 43, 44, 45, 46, 47, 48, 49, 50, 51, 52, 53, 54, 55, 56, 57, 58, 59, 60, 61, 62, 63, 64, 65, 66, 67, 68, 69, 70, 71, 72, 73, 74, 75, 76, 77, 78, 79, 80, 81, 82, 83, 84, 85, 86, 87, 88, 89, 90, 91, 92, 93, 94, 95, 96, 97, 98, 99, 100]\n"
     ]
    }
   ],
   "source": [
    "listComprehensionBaru=[x for x in range(1,101)]\n",
    "print(listComprehensionBaru)"
   ]
  },
  {
   "cell_type": "markdown",
   "metadata": {},
   "source": [
    "* List Comprehension dengan Operator Matematika"
   ]
  },
  {
   "cell_type": "code",
   "execution_count": 16,
   "metadata": {},
   "outputs": [
    {
     "name": "stdout",
     "output_type": "stream",
     "text": [
      "[2, 4, 6, 8, 10, 12, 14, 16, 18, 20, 22, 24, 26, 28, 30, 32, 34, 36, 38, 40, 42, 44, 46, 48, 50, 52, 54, 56, 58, 60, 62, 64, 66, 68, 70, 72, 74, 76, 78, 80, 82, 84, 86, 88, 90, 92, 94, 96, 98, 100, 102, 104, 106, 108, 110, 112, 114, 116, 118, 120, 122, 124, 126, 128, 130, 132, 134, 136, 138, 140, 142, 144, 146, 148, 150, 152, 154, 156, 158, 160, 162, 164, 166, 168, 170, 172, 174, 176, 178, 180, 182, 184, 186, 188, 190, 192, 194, 196, 198, 200]\n"
     ]
    }
   ],
   "source": [
    "listBaru=[]\n",
    "for x in range(1,101):\n",
    "    listBaru.append(x*2)\n",
    "print(listBaru)"
   ]
  },
  {
   "cell_type": "code",
   "execution_count": 18,
   "metadata": {},
   "outputs": [
    {
     "name": "stdout",
     "output_type": "stream",
     "text": [
      "[2, 4, 6, 8, 10, 12, 14, 16, 18, 20, 22, 24, 26, 28, 30, 32, 34, 36, 38, 40, 42, 44, 46, 48, 50, 52, 54, 56, 58, 60, 62, 64, 66, 68, 70, 72, 74, 76, 78, 80, 82, 84, 86, 88, 90, 92, 94, 96, 98, 100, 102, 104, 106, 108, 110, 112, 114, 116, 118, 120, 122, 124, 126, 128, 130, 132, 134, 136, 138, 140, 142, 144, 146, 148, 150, 152, 154, 156, 158, 160, 162, 164, 166, 168, 170, 172, 174, 176, 178, 180, 182, 184, 186, 188, 190, 192, 194, 196, 198, 200]\n"
     ]
    }
   ],
   "source": [
    "listComprehensionBaru=[x*2 for x in range(1,101)]\n",
    "print(listComprehensionBaru)"
   ]
  },
  {
   "cell_type": "markdown",
   "metadata": {},
   "source": [
    "* List Comprehension dengan satu IF Condition"
   ]
  },
  {
   "cell_type": "code",
   "execution_count": 19,
   "metadata": {},
   "outputs": [
    {
     "name": "stdout",
     "output_type": "stream",
     "text": [
      "[1, 2, 3, 4, 5, 6, 7, 8, 9, 10, 11, 12, 13, 14, 15, 16, 17, 18, 19, 20, 21, 22, 23, 24, 25, 26, 27, 28, 29, 30, 31, 32, 33, 34, 35, 36, 37, 38, 39, 40, 41, 42, 43, 44, 45, 46, 47, 48, 49, 50, 51, 52, 53, 54, 55, 56, 57, 58, 59, 60, 61, 62, 63, 64, 65, 66, 67, 68, 69, 70, 71, 72, 73, 74, 75, 76, 77, 78, 79, 80, 81, 82, 83, 84, 85, 86, 87, 88, 89, 90, 91, 92, 93, 94, 95, 96, 97, 98, 99, 100]\n"
     ]
    }
   ],
   "source": [
    "list100=[]\n",
    "for x in range(1,101):\n",
    "    list100.append(x)\n",
    "print(list100)"
   ]
  },
  {
   "cell_type": "code",
   "execution_count": 23,
   "metadata": {},
   "outputs": [
    {
     "name": "stdout",
     "output_type": "stream",
     "text": [
      "[7, 14, 21, 28, 35, 42, 49, 56, 63, 70, 77, 84, 91, 98]\n"
     ]
    }
   ],
   "source": [
    "listAngkaKelipatan7=[]\n",
    "for angka in list100:\n",
    "    if angka%7==0:\n",
    "        listAngkaKelipatan7.append(angka)\n",
    "print(listAngkaKelipatan7)"
   ]
  },
  {
   "cell_type": "code",
   "execution_count": 24,
   "metadata": {},
   "outputs": [
    {
     "name": "stdout",
     "output_type": "stream",
     "text": [
      "[7, 14, 21, 28, 35, 42, 49, 56, 63, 70, 77, 84, 91, 98]\n"
     ]
    }
   ],
   "source": [
    "listAngkaKelipatan7Comprehension=[angka for angka in list100 if angka%7==0]\n",
    "print(listAngkaKelipatan7Comprehension)"
   ]
  },
  {
   "cell_type": "code",
   "execution_count": 25,
   "metadata": {},
   "outputs": [
    {
     "name": "stdout",
     "output_type": "stream",
     "text": [
      "[3, 6, 12]\n"
     ]
    }
   ],
   "source": [
    "listAngka=[1,2,3,6,7,8,10,11,12]\n",
    "listAngkaKelipatan3Comprehension=[x for x in listAngka if x%3==0]\n",
    "print(listAngkaKelipatan3Comprehension)"
   ]
  },
  {
   "cell_type": "markdown",
   "metadata": {},
   "source": [
    "* List Comprehension dengan IF ELSE Condition"
   ]
  },
  {
   "cell_type": "code",
   "execution_count": 26,
   "metadata": {},
   "outputs": [
    {
     "name": "stdout",
     "output_type": "stream",
     "text": [
      "[2, 1.0, 6, 2.0, 10, 3.0, 14, 4.0, 18, 5.0, 22, 6.0, 26, 7.0, 30, 8.0, 34, 9.0, 38, 10.0, 42, 11.0, 46, 12.0, 50, 13.0, 54, 14.0, 58, 15.0, 62, 16.0, 66, 17.0, 70, 18.0, 74, 19.0, 78, 20.0, 82, 21.0, 86, 22.0, 90, 23.0, 94, 24.0, 98, 25.0, 102, 26.0, 106, 27.0, 110, 28.0, 114, 29.0, 118, 30.0, 122, 31.0, 126, 32.0, 130, 33.0, 134, 34.0, 138, 35.0, 142, 36.0, 146, 37.0, 150, 38.0, 154, 39.0, 158, 40.0, 162, 41.0, 166, 42.0, 170, 43.0, 174, 44.0, 178, 45.0, 182, 46.0, 186, 47.0, 190, 48.0, 194, 49.0, 198, 50.0]\n"
     ]
    }
   ],
   "source": [
    "listAngka=[]\n",
    "for angka in list100:\n",
    "    if angka%2==0:\n",
    "        listAngka.append(angka/2)\n",
    "    else:\n",
    "        listAngka.append(angka*2)\n",
    "print(listAngka)"
   ]
  },
  {
   "cell_type": "code",
   "execution_count": 27,
   "metadata": {},
   "outputs": [
    {
     "name": "stdout",
     "output_type": "stream",
     "text": [
      "[2, 1.0, 6, 2.0, 10, 3.0, 14, 4.0, 18, 5.0, 22, 6.0, 26, 7.0, 30, 8.0, 34, 9.0, 38, 10.0, 42, 11.0, 46, 12.0, 50, 13.0, 54, 14.0, 58, 15.0, 62, 16.0, 66, 17.0, 70, 18.0, 74, 19.0, 78, 20.0, 82, 21.0, 86, 22.0, 90, 23.0, 94, 24.0, 98, 25.0, 102, 26.0, 106, 27.0, 110, 28.0, 114, 29.0, 118, 30.0, 122, 31.0, 126, 32.0, 130, 33.0, 134, 34.0, 138, 35.0, 142, 36.0, 146, 37.0, 150, 38.0, 154, 39.0, 158, 40.0, 162, 41.0, 166, 42.0, 170, 43.0, 174, 44.0, 178, 45.0, 182, 46.0, 186, 47.0, 190, 48.0, 194, 49.0, 198, 50.0]\n"
     ]
    }
   ],
   "source": [
    "listAngkaComprehension=[angka/2 if angka%2==0 else angka*2 for angka in list100]\n",
    "print(listAngkaComprehension)"
   ]
  },
  {
   "cell_type": "markdown",
   "metadata": {},
   "source": [
    "* List Comprehension dengan IF ELSE Condition Bertingkat"
   ]
  },
  {
   "cell_type": "code",
   "execution_count": 28,
   "metadata": {},
   "outputs": [
    {
     "name": "stdout",
     "output_type": "stream",
     "text": [
      "[2, 4, 6, 8, 10, 12, 14, 16, 18, 20, 22, 24, 26, 28, 30, 32, 34, 36, 38, 40, 42, 44, 46, 48, 50, 78, 81, 84, 87, 90, 93, 96, 99, 102, 105, 108, 111, 114, 117, 120, 123, 126, 129, 132, 135, 138, 141, 144, 147, 150, 153, 156, 159, 162, 165, 168, 171, 174, 177, 180, 183, 186, 189, 192, 195, 198, 201, 204, 207, 210, 213, 216, 219, 222, 375, 380, 385, 390, 395, 400, 405, 410, 415, 420, 425, 430, 435, 440, 445, 450, 455, 460, 465, 470, 475, 480, 485, 490, 495, 500]\n"
     ]
    }
   ],
   "source": [
    "listAngka=[]\n",
    "for angka in list100:\n",
    "    if angka<=25:\n",
    "        listAngka.append(angka*2)\n",
    "    elif angka>=75:\n",
    "        listAngka.append(angka*5)\n",
    "    else:\n",
    "        listAngka.append(angka*3)\n",
    "print(listAngka)"
   ]
  },
  {
   "cell_type": "code",
   "execution_count": 30,
   "metadata": {},
   "outputs": [
    {
     "name": "stdout",
     "output_type": "stream",
     "text": [
      "[2, 4, 6, 8, 10, 12, 14, 16, 18, 20, 22, 24, 26, 28, 30, 32, 34, 36, 38, 40, 42, 44, 46, 48, 50, 78, 81, 84, 87, 90, 93, 96, 99, 102, 105, 108, 111, 114, 117, 120, 123, 126, 129, 132, 135, 138, 141, 144, 147, 150, 153, 156, 159, 162, 165, 168, 171, 174, 177, 180, 183, 186, 189, 192, 195, 198, 201, 204, 207, 210, 213, 216, 219, 222, 375, 380, 385, 390, 395, 400, 405, 410, 415, 420, 425, 430, 435, 440, 445, 450, 455, 460, 465, 470, 475, 480, 485, 490, 495, 500]\n"
     ]
    }
   ],
   "source": [
    "listAngkaComprehension=[angka*2 if angka<=25 else (angka*5 if angka>=75 else angka*3) for angka in list100]\n",
    "print(listAngkaComprehension)"
   ]
  },
  {
   "cell_type": "code",
   "execution_count": 1,
   "metadata": {},
   "outputs": [
    {
     "name": "stdout",
     "output_type": "stream",
     "text": [
      "bandung oke\n",
      "Surabaya oke\n"
     ]
    }
   ],
   "source": [
    "listKota = [\"Jakarta\", \"bandung\", \"Surabaya\", \"semarang\", \"Palembang\"]\n",
    "\n",
    "for kota in listKota:\n",
    "    if \"u\" in kota:\n",
    "        print(kota + \" oke\")\n",
    "\n",
    "# jika mengandung huruf u maka tambahkan kata uyeah\n",
    "# jika mengandung huruf g maka tambahkan kata gasss\n",
    "# sisanya tambahkan kata oyee\n"
   ]
  },
  {
   "cell_type": "code",
   "execution_count": 2,
   "metadata": {},
   "outputs": [
    {
     "name": "stdout",
     "output_type": "stream",
     "text": [
      "['Jakarta oyee', 'bandung uyeah', 'Surabaya uyeah', 'semarang gass', 'Palembang gass']\n"
     ]
    }
   ],
   "source": [
    "listKotaComprehension=[]\n",
    "for kota in listKota:\n",
    "    if \"u\" in kota:\n",
    "        listKotaComprehension.append(kota + \" uyeah\")\n",
    "    elif \"g\" in kota:\n",
    "        listKotaComprehension.append(kota + \" gass\")\n",
    "    else:\n",
    "        listKotaComprehension.append(kota + \" oyee\")\n",
    "print(listKotaComprehension)"
   ]
  },
  {
   "cell_type": "code",
   "execution_count": 3,
   "metadata": {},
   "outputs": [
    {
     "name": "stdout",
     "output_type": "stream",
     "text": [
      "['Jakarta oyee', 'bandung uyeah', 'Surabaya uyeah', 'semarang gass', 'Palembang gass']\n"
     ]
    }
   ],
   "source": [
    "listKotaComprehension=[x + ' uyeah' if 'u' in x else x + ' gass' if 'g' in x else x + ' oyee' for x in listKota]\n",
    "print(listKotaComprehension)"
   ]
  },
  {
   "cell_type": "code",
   "execution_count": 4,
   "metadata": {},
   "outputs": [
    {
     "name": "stdout",
     "output_type": "stream",
     "text": [
      "['Jakarta oyee', 'bandung uyeah', 'Surabaya uyeah', 'semarang gass', 'Palembang gass']\n"
     ]
    }
   ],
   "source": [
    "listKotaComprehension=[kota + \" uyeah\" if \"u\" in kota else (kota + \" gass\" if \"g\" in kota else kota + \" oyee\") for kota in listKota]\n",
    "print(listKotaComprehension)"
   ]
  },
  {
   "cell_type": "code",
   "execution_count": 20,
   "metadata": {},
   "outputs": [
    {
     "name": "stdout",
     "output_type": "stream",
     "text": [
      "['bandung uyeah', 'semarang gass']\n"
     ]
    }
   ],
   "source": [
    "print(listKotaComprehension)"
   ]
  },
  {
   "cell_type": "markdown",
   "metadata": {},
   "source": [
    "# DAY 02"
   ]
  }
 ],
 "metadata": {
  "kernelspec": {
   "display_name": "base",
   "language": "python",
   "name": "python3"
  },
  "language_info": {
   "codemirror_mode": {
    "name": "ipython",
    "version": 3
   },
   "file_extension": ".py",
   "mimetype": "text/x-python",
   "name": "python",
   "nbconvert_exporter": "python",
   "pygments_lexer": "ipython3",
   "version": "3.9.13"
  },
  "orig_nbformat": 4
 },
 "nbformat": 4,
 "nbformat_minor": 2
}
