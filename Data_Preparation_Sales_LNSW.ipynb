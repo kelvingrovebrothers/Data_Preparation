{
 "cells": [
  {
   "cell_type": "markdown",
   "metadata": {},
   "source": [
    "# Import data "
   ]
  },
  {
   "cell_type": "code",
   "execution_count": null,
   "metadata": {},
   "outputs": [],
   "source": [
    "#import lib, set pandas display\n",
    "\n",
    "#import pandas\n",
    "import pandas as pd\n",
    "\n",
    "# set display format float\n",
    "pd.options.display.float_format = \"{:,.2f}\".format\n",
    "\n",
    "#load dataset csv\n",
    "url=\"\"\"\n",
    "https://raw.githubusercontent.com/kelvingrovebrothers/Data_Preparation/main/sales_data_latihan.csv\"\"\"\n",
    "dfCsv=pd.read_csv(url)\n",
    "dfCsv.info()\n",
    "dfCsv\n",
    "# dfCsv[2:11]"
   ]
  },
  {
   "cell_type": "code",
   "execution_count": null,
   "metadata": {},
   "outputs": [],
   "source": [
    "#load dataset csv mentah\n",
    "\n",
    "filepath=\"https://raw.githubusercontent.com/kelvingrovebrothers/Data_Preparation/main/Data_Sales_Latihan.csv\"\n",
    "# dfCsv = pd.read_csv(filepath, index_col=0, quotechar='\"', delimiter=',')\n",
    "dfCsv = pd.read_csv(filepath)\n",
    "dfCsv.info()\n",
    "dfCsv\n",
    "# dfCsv[2:11]"
   ]
  },
  {
   "cell_type": "code",
   "execution_count": null,
   "metadata": {},
   "outputs": [],
   "source": [
    "#Pahami struktur data terlebih dahulu\n",
    "import requests\n",
    "\n",
    "url = \"https://raw.githubusercontent.com/kelvingrovebrothers/Data_Preparation/main/Data_Sales_Latihan.csv\"\n",
    "response = requests.get(url)\n",
    "raw_data = response.text.splitlines()\n",
    "\n",
    "# Cetak 5 baris pertama untuk inspeksi:\n",
    "for i, line in enumerate(raw_data[:5]):\n",
    "    print(f\"Line {i+1}: {line}\")\n"
   ]
  },
  {
   "cell_type": "code",
   "execution_count": null,
   "metadata": {},
   "outputs": [],
   "source": [
    "#Data teridentifikasi memiliki karakter \"\" di awal dan ujungnya, sehingga perlu step extra\n",
    "import pandas as pd\n",
    "import io\n",
    "import requests\n",
    "\n",
    "url = \"https://raw.githubusercontent.com/kelvingrovebrothers/Data_Preparation/main/Data_Sales_Latihan.csv\"\n",
    "response = requests.get(url)\n",
    "raw_data = response.text.splitlines()\n",
    "\n",
    "# Pembersihan data\n",
    "cleaned_lines = [line[1:-1].replace('\"\"', '\"') for line in raw_data]\n",
    "\n",
    "# Gabungkan kembali data yang telah dibersihkan\n",
    "cleaned_data = \"\\n\".join(cleaned_lines)\n",
    "\n",
    "# Baca dengan pandas\n",
    "df = pd.read_csv(io.StringIO(cleaned_data))\n",
    "# print(df)\n",
    "df"
   ]
  },
  {
   "cell_type": "code",
   "execution_count": null,
   "metadata": {},
   "outputs": [],
   "source": [
    "#copy DataFrame secara Deep Copy, sehingga masing-masing independen\n",
    "\n",
    "df_copy=df.copy(deep=True) #deep copy\n",
    "# dfShallowCopy=dfExcel #shallow copy\n",
    "df_copy"
   ]
  },
  {
   "cell_type": "code",
   "execution_count": null,
   "metadata": {},
   "outputs": [],
   "source": [
    "#load dataset tsv\n",
    "\n",
    "filepath=\"C:\\\\Users\\\\wishn\\\\Data Preparation\\\\day1\\\\clean_sales.tsv\"\n",
    "dfTsv=pd.read_csv(filepath,sep=\"\\t\",index_col=0)\n",
    "dfTsv"
   ]
  },
  {
   "cell_type": "code",
   "execution_count": null,
   "metadata": {},
   "outputs": [],
   "source": [
    "#load dataset html\n",
    "\n",
    "#pip install lxml\n",
    "filepath=\"C:\\\\Users\\\\wishn\\\\Data Preparation\\\\day1\\\\clean_sales.html\"\n",
    "dfHtml=pd.read_html(filepath, index_col=0)[0]\n",
    "dfHtml"
   ]
  },
  {
   "cell_type": "code",
   "execution_count": null,
   "metadata": {},
   "outputs": [],
   "source": [
    "#load dataset Excel\n",
    "\n",
    "filepath=\"C:\\\\Users\\\\wishn\\\\Data Preparation\\\\day1\\\\clean_sales.xlsx\"\n",
    "dfExcel=pd.read_excel(filepath, index_col=0)\n",
    "dfExcel"
   ]
  },
  {
   "cell_type": "code",
   "execution_count": null,
   "metadata": {},
   "outputs": [],
   "source": [
    "#get the DataFrame information\n",
    "df_copy.info()"
   ]
  },
  {
   "cell_type": "code",
   "execution_count": null,
   "metadata": {},
   "outputs": [],
   "source": [
    "#Menambahkan kolom tambahan terkait status modal\n",
    "statusLNDN=[]\n",
    "for data in df_copy[\"Type\"]:\n",
    "    if(data==\"Company\"):\n",
    "        statusLNDN.append(\"LN\")\n",
    "    else:\n",
    "        statusLNDN.append(\"DN\")\n",
    "\n",
    "df_copy[\"Status LN/DN\"]=statusLNDN\n",
    "df_copy"
   ]
  },
  {
   "cell_type": "code",
   "execution_count": null,
   "metadata": {},
   "outputs": [],
   "source": [
    "#df Shallow Copy merujuk pada memory yang sama, sehingga dependen terhadap DataFrame asalnya\n",
    "dfShallowCopy"
   ]
  },
  {
   "cell_type": "code",
   "execution_count": null,
   "metadata": {},
   "outputs": [],
   "source": [
    "#mengubah nama kolom DataFrame\n",
    "\n",
    "df_copy=df_copy.rename(columns={\n",
    "    \"Customer Number\":\"no_pelanggan\",\n",
    "    \"Customer Name\":\"nama_pelanggan\",\n",
    "    \"Address\":\"alamat\",\n",
    "    \"Type\":\"jenis_pelanggan\",\n",
    "    \"Sales\":\"penjualan\",\n",
    "    \"Percent Growth\":\"pertumbuhan\",\n",
    "    \"Status LN/DN\":\"status_modal\"\n",
    "})\n",
    "df_copy"
   ]
  },
  {
   "cell_type": "code",
   "execution_count": null,
   "metadata": {},
   "outputs": [],
   "source": [
    "df_copy.info()"
   ]
  },
  {
   "cell_type": "code",
   "execution_count": null,
   "metadata": {},
   "outputs": [],
   "source": [
    "#mengubah no pelanggan menjadi string\n",
    "df_copy=df_copy.astype({\"no_pelanggan\":str})\n",
    "df_copy"
   ]
  },
  {
   "cell_type": "code",
   "execution_count": null,
   "metadata": {},
   "outputs": [],
   "source": [
    "df_copy.info()"
   ]
  },
  {
   "cell_type": "code",
   "execution_count": null,
   "metadata": {},
   "outputs": [],
   "source": [
    "#pada kolom Type, value Perusahaan muncul 2 kali karena ada spasi ekstra di belakang\n",
    "dfClean=df_copy.astype({\"jenis_pelanggan\":\"str\"})\n",
    "for column in dfClean.columns:\n",
    "    print(dfClean[column].sort_values().unique())"
   ]
  },
  {
   "cell_type": "code",
   "execution_count": null,
   "metadata": {},
   "outputs": [],
   "source": [
    "#mengecilkan semua huruf\n",
    "for column in dfClean:\n",
    "    dfClean[column]=dfClean[column].str.lower()\n",
    "print(dfClean)"
   ]
  },
  {
   "cell_type": "code",
   "execution_count": null,
   "metadata": {},
   "outputs": [],
   "source": [
    "for column in dfClean:\n",
    "    dfClean[column]=dfClean[column].str.strip()\n",
    "print(dfClean)"
   ]
  },
  {
   "cell_type": "code",
   "execution_count": null,
   "metadata": {},
   "outputs": [],
   "source": [
    "dfClean[\"penjualan\"]=dfClean[\"penjualan\"].str.replace(\"rp\",\"\")\n",
    "dfClean[\"penjualan\"]=dfClean[\"penjualan\"].str.replace(\",\",\"\")\n",
    "dfClean[\"penjualan\"]=dfClean[\"penjualan\"].astype({\"penjualan\":\"float\"})\n",
    "dfClean"
   ]
  },
  {
   "cell_type": "code",
   "execution_count": null,
   "metadata": {},
   "outputs": [],
   "source": [
    "dfClean[\"pertumbuhan\"]=dfClean[\"pertumbuhan\"].str.replace(\"%\",\"\")\n",
    "dfClean[\"pertumbuhan\"]=dfClean[\"pertumbuhan\"].astype(\"float\")\n",
    "dfClean"
   ]
  },
  {
   "cell_type": "code",
   "execution_count": null,
   "metadata": {},
   "outputs": [],
   "source": [
    "dfClean=dfClean.fillna(0)\n",
    "dfClean"
   ]
  },
  {
   "cell_type": "code",
   "execution_count": null,
   "metadata": {},
   "outputs": [],
   "source": [
    "dfClean[\"pertumbuhan\"]=dfClean[\"pertumbuhan\"].apply(lambda dataPercentGrowth:dataPercentGrowth/100)\n",
    "dfClean"
   ]
  },
  {
   "cell_type": "code",
   "execution_count": null,
   "metadata": {},
   "outputs": [],
   "source": [
    "#df Deep Copy terpisah dengan sumbernya, sehingga independen dari DataFrame asalnya\n",
    "del(dfClean[\"status_modal\"])\n",
    "dfClean"
   ]
  },
  {
   "cell_type": "code",
   "execution_count": null,
   "metadata": {},
   "outputs": [],
   "source": [
    "#cara list comprehension\n",
    "dfClean[\"status_modal\"]=[\"LN\" if data==\"company\" else \"DN\" for data in dfClean[\"jenis_pelanggan\"]]\n",
    "dfClean"
   ]
  },
  {
   "cell_type": "code",
   "execution_count": null,
   "metadata": {},
   "outputs": [],
   "source": [
    "dfClean[\"jenis_pelanggan\"]=dfClean[\"jenis_pelanggan\"].str.replace(\"company\",\"perusahaan\")\n",
    "dfClean[\"jenis_pelanggan\"]=dfClean[\"jenis_pelanggan\"].str.replace(\"personal\",\"individu\")\n",
    "dfClean"
   ]
  },
  {
   "cell_type": "code",
   "execution_count": null,
   "metadata": {},
   "outputs": [],
   "source": [
    "dfIndexCustomer=dfClean.set_index([\"nama_pelanggan\"])\n",
    "dfTransposed=dfIndexCustomer.T\n",
    "dfTransposed"
   ]
  },
  {
   "cell_type": "code",
   "execution_count": null,
   "metadata": {},
   "outputs": [],
   "source": [
    "#pivot DataFrame\n",
    "dfPivot=dfClean.pivot(index=[\"nama_pelanggan\"],columns=[\"jenis_pelanggan\"],values=[\"penjualan\",\"pertumbuhan\"])\n",
    "dfPivot\n",
    "\n",
    "# # Contoh DataFrame Anda\n",
    "# import pandas as pd\n",
    "\n",
    "# data = {\n",
    "#     'nama_pelanggan': ['A', 'A', 'B', 'B'],\n",
    "#     'jenis_pelanggan': ['Tipe1', 'Tipe2', 'Tipe1', 'Tipe2'],\n",
    "#     'penjualan': [100, 150, 200, 250],\n",
    "#     'pertumbuhan': [0.1, 0.2, 0.15, 0.25]\n",
    "# }\n",
    "# df_copy = pd.DataFrame(data)\n",
    "\n",
    "# # Pivot tabel\n",
    "# dfPivot = df_copy.pivot(index=\"nama_pelanggan\", columns=\"jenis_pelanggan\", values=[\"penjualan\", \"pertumbuhan\"])\n",
    "\n",
    "# # Mengganti nama kolom setelah operasi pivot\n",
    "# dfPivot = dfPivot.rename(columns={\n",
    "#     'penjualan': 'avg_penjualan',\n",
    "#     'pertumbuhan': 'avg_pertumbuhan'\n",
    "# })\n",
    "\n",
    "# dfPivot\n",
    "dfPivot\n"
   ]
  },
  {
   "cell_type": "code",
   "execution_count": null,
   "metadata": {},
   "outputs": [],
   "source": [
    "dfPivot = dfPivot.rename_axis(index={'nama_pelanggan': 'daftar_pelanggan'}, \n",
    "                              columns={'jenis_pelanggan': 'tipe_pelanggan'})\n",
    "dfPivot"
   ]
  },
  {
   "cell_type": "code",
   "execution_count": null,
   "metadata": {},
   "outputs": [],
   "source": [
    "#pivot tableDataFrame, default Aggregat Function = Mean\n",
    "import numpy as np\n",
    "dfPivotTable=dfClean.pivot_table(index=[\"status_modal\"],columns=[\"jenis_pelanggan\"],values=[\"penjualan\",\"pertumbuhan\"],aggfunc={\"penjualan\":np.sum,\"pertumbuhan\":np.mean})\n",
    "dfPivotTable=dfClean.pivot_table(index=[\"status_modal\",\"alamat\"],columns=[\"jenis_pelanggan\"],values=[\"penjualan\",\"pertumbuhan\"],aggfunc={\"penjualan\":np.sum,\"pertumbuhan\":np.mean})\n",
    "dfPivotTable=dfClean.pivot_table(index=[\"alamat\"],columns=[\"status_modal\",\"jenis_pelanggan\"],values=[\"no_pelanggan\", \"penjualan\",\"pertumbuhan\"],aggfunc={\"no_pelanggan\":np.count_nonzero,\"penjualan\":np.sum,\"pertumbuhan\":np.mean},fill_value=0)\n",
    "dfPivotTable"
   ]
  },
  {
   "cell_type": "code",
   "execution_count": null,
   "metadata": {},
   "outputs": [],
   "source": [
    "#lihat statistik dari setiap field yang mengandung value\n",
    "dfClean.describe()"
   ]
  },
  {
   "cell_type": "code",
   "execution_count": null,
   "metadata": {},
   "outputs": [],
   "source": [
    "#membuat kategori penjualan berdasarkan statistik (Binning)\n",
    "\n",
    "# cara for..loop\n",
    "# listKategoriPenjualan = []\n",
    "# for nilaiPenjualan in df[\"penjualan\"]:\n",
    "#     if nilaiPenjualan < df.penjualan.quantile(.25):\n",
    "#         listKategoriPenjualan.append(\"rendah\")\n",
    "#     elif nilaiPenjualan > df.penjualan.quantile(.75):\n",
    "#         listKategoriPenjualan.append(\"tinggi\")\n",
    "#     else:\n",
    "#         listKategoriPenjualan.append(\"sedang\")\n",
    "# df[\"kategori_penjualan\"]=listKategoriPenjualan\n",
    "\n",
    "# cara List Comprehension\n",
    "listKategoriPenjualan=[\"rendah\" if nilaiPenjualan < dfClean.penjualan.quantile(.25) else ( \"tinggi\" if nilaiPenjualan > dfClean.penjualan.quantile(.75) else \"sedang\" ) for nilaiPenjualan in dfClean[\"penjualan\"]]\n",
    "dfClean[\"kategori_penjualan\"]=listKategoriPenjualan\n",
    "\n",
    "\n",
    "dfClean"
   ]
  },
  {
   "cell_type": "code",
   "execution_count": null,
   "metadata": {},
   "outputs": [],
   "source": [
    "#membuat kategori pertumbuhan berdasarkan statistik (Binning)\n",
    "\n",
    "# cara for..loop\n",
    "# listKategoriPertumbuhan = []\n",
    "# for angkaPertumbuhan in df[\"pertumbuhan\"]:\n",
    "#     if angkaPertumbuhan < df.pertumbuhan.quantile(.25):\n",
    "#         listKategoriPertumbuhan.append(\"rendah\")\n",
    "#     elif angkaPertumbuhan > df.pertumbuhan.quantile(.75):\n",
    "#         listKategoriPertumbuhan.append(\"tinggi\")\n",
    "#     else:\n",
    "#         listKategoriPertumbuhan.append(\"sedang\")\n",
    "# df[\"kategori_pertumbuhan\"]=listKategoriPertumbuhan\n",
    "\n",
    "# cara List Comprehension\n",
    "listKategoriPertumbuhan=[\"rendah\" if angkaPertumbuhan < dfClean.pertumbuhan.quantile(.25) else ( \"tinggi\" if angkaPertumbuhan > dfClean.pertumbuhan.quantile(.75) else \"sedang\" ) for angkaPertumbuhan in dfClean[\"pertumbuhan\"]]\n",
    "dfClean[\"kategori_pertumbuhan\"]=listKategoriPertumbuhan\n",
    "\n",
    "\n",
    "dfClean"
   ]
  },
  {
   "cell_type": "code",
   "execution_count": null,
   "metadata": {},
   "outputs": [],
   "source": [
    "#membuat kelas penjualan berdasarkan batasan nilai penjualan (Binning)\n",
    "\n",
    "# cara for..loop\n",
    "# listKelasPenjualan = []\n",
    "# for nilaiPenjualan in df[\"penjualan\"]:\n",
    "#     if nilaiPenjualan < 100000000:\n",
    "#         listKelasPenjualan.append(\"< 100 juta\")\n",
    "#     elif nilaiPenjualan > 500000000:\n",
    "#         listKelasPenjualan.append(\"> 500 juta\")\n",
    "#     else:\n",
    "#         listKelasPenjualan.append(\"100 - 500 juta\")\n",
    "# df[\"kelas_penjualan\"]=listKelasPenjualan\n",
    "\n",
    "# cara List Comprehension\n",
    "listKelasPenjualan=[\"< 100 juta\" if nilaiPenjualan < 100000000 else ( \"> 500 juta\" if nilaiPenjualan > 500000000 else \"100 - 500 juta\" ) for nilaiPenjualan in dfClean[\"penjualan\"]]\n",
    "dfClean[\"kelas_penjualan\"]=listKelasPenjualan\n",
    "\n",
    "\n",
    "dfClean"
   ]
  },
  {
   "cell_type": "code",
   "execution_count": null,
   "metadata": {},
   "outputs": [],
   "source": [
    "# Uji Outliers nilai penjualan dengan Three Sigma\n",
    "def three_sigma_outlier (dfClean, namaKolomUji, nilaiDiuji):\n",
    "    if (abs(nilaiDiuji-dfClean[namaKolomUji].mean())>(3*dfClean[namaKolomUji].std())):\n",
    "        return \"Outlier\"\n",
    "    else:\n",
    "        return \"Bukan Outlier\"\n",
    "\n",
    "# cara for..loop\n",
    "# listUjiOutlierThreeSigma=[]\n",
    "\n",
    "# for nilaiPenjualan in df[\"penjualan\"]:\n",
    "#     listUjiOutlierThreeSigma.append(three_sigma_outlier(df,\"penjualan\",nilaiPenjualan))\n",
    "\n",
    "# cara list comprehension\n",
    "\n",
    "listUjiOutlierThreeSigma=[three_sigma_outlier(dfClean,\"penjualan\",nilaiPenjualan) for nilaiPenjualan in dfClean[\"penjualan\"]]\n",
    "\n",
    "dfClean[\"uji_outliers_three_sigma_pada_penjualan\"]=listUjiOutlierThreeSigma\n",
    "dfClean"
   ]
  },
  {
   "cell_type": "code",
   "execution_count": null,
   "metadata": {},
   "outputs": [],
   "source": [
    "# Uji Outliers angka pertumbuhan dengan Three Sigma\n",
    "def three_sigma_outlier (dfClean, namaKolomUji, nilaiDiuji):\n",
    "    if (abs(nilaiDiuji-dfClean[namaKolomUji].mean())>(3*dfClean[namaKolomUji].std())):\n",
    "        return \"Outlier\"\n",
    "    else:\n",
    "        return \"Bukan Outlier\"\n",
    "\n",
    "# cara for..loop\n",
    "# listUjiOutlierThreeSigma=[]\n",
    "\n",
    "# for angkaPertumbuhan in df[\"pertumbuhan\"]:\n",
    "#     listUjiOutlierThreeSigma.append(three_sigma_outlier(df,\"pertumbuhan\",angkaPertumbuhan))\n",
    "\n",
    "# cara list comprehension\n",
    "\n",
    "listUjiOutlierThreeSigma=[three_sigma_outlier(dfClean,\"pertumbuhan\",angkaPertumbuhan) for angkaPertumbuhan in dfClean[\"pertumbuhan\"]]\n",
    "\n",
    "dfClean[\"uji_outliers_three_sigma_pada_pertumbuhan\"]=listUjiOutlierThreeSigma\n",
    "dfClean"
   ]
  },
  {
   "cell_type": "code",
   "execution_count": null,
   "metadata": {},
   "outputs": [],
   "source": [
    "# Uji Outliers nilai penjualan dengan Hampel Identifier\n",
    "def hampel_outlier (dfClean, namaKolomUji, nilaiDiuji):\n",
    "    median=dfClean[namaKolomUji].quantile(0.5)\n",
    "    limitMadm=1.4862*median\n",
    "    if (abs(nilaiDiuji)>(3*limitMadm)):\n",
    "        return \"Outlier\"\n",
    "    else:\n",
    "        return \"Bukan Outlier\"\n",
    "\n",
    "# cara for..loop\n",
    "# listUjiOutlierHampel=[]\n",
    "\n",
    "# for nilaiPenjualan in df[\"penjualan\"]:\n",
    "#     listUjiOutlierHampel.append(hampel_outlier(df,\"penjualan\",nilaiPenjualan))\n",
    "\n",
    "# cara list comprehension\n",
    "\n",
    "listUjiOutlierHampel=[hampel_outlier(dfClean,\"penjualan\",nilaiPenjualan) for nilaiPenjualan in dfClean[\"penjualan\"]]\n",
    "\n",
    "dfClean[\"uji_outliers_hampel_pada_penjualan\"]=listUjiOutlierHampel\n",
    "dfClean"
   ]
  },
  {
   "cell_type": "code",
   "execution_count": null,
   "metadata": {},
   "outputs": [],
   "source": [
    "# Uji Outliers nilai pertumbuhan dengan Hampel Identifier\n",
    "def hampel_outlier (dfClean, namaKolomUji, nilaiDiuji):\n",
    "    median=dfClean[namaKolomUji].quantile(0.5)\n",
    "    limitMadm=1.4862*median\n",
    "    if (abs(nilaiDiuji)>(3*limitMadm)):\n",
    "        return \"Outlier\"\n",
    "    else:\n",
    "        return \"Bukan Outlier\"\n",
    "\n",
    "# cara for..loop\n",
    "# listUjiOutlierHampel=[]\n",
    "\n",
    "# for angkaPertumbuhan in df[\"pertumbuhan\"]:\n",
    "#     listUjiOutlierHampel.append(hampel_outlier(df,\"pertumbuhan\",angkaPertumbuhan))\n",
    "\n",
    "# cara list comprehension\n",
    "\n",
    "listUjiOutlierHampel=[hampel_outlier(dfClean,\"pertumbuhan\",angkaPertumbuhan) for angkaPertumbuhan in dfClean[\"pertumbuhan\"]]\n",
    "\n",
    "dfClean[\"uji_outliers_hampel_pada_pertumbuhan\"]=listUjiOutlierHampel\n",
    "dfClean"
   ]
  },
  {
   "cell_type": "code",
   "execution_count": null,
   "metadata": {},
   "outputs": [],
   "source": [
    "# Uji Outliers nilai penjualan dengan Box Plot\n",
    "def box_plot_outlier (dfClean, namaKolomUji, nilaiDiuji):\n",
    "    quartileBawah=dfClean[namaKolomUji].quantile(0.25)\n",
    "    quartileAtas=dfClean[namaKolomUji].quantile(0.75)\n",
    "    jangkauanInterQuartile=quartileAtas-quartileBawah\n",
    "    if nilaiDiuji>((1.5*jangkauanInterQuartile)+quartileAtas) or nilaiDiuji<(quartileBawah-(1.5*jangkauanInterQuartile)):\n",
    "        return \"Outlier\"\n",
    "    else:\n",
    "        return \"Bukan Outlier\"\n",
    "\n",
    "# cara for..loop\n",
    "# listUjiOutlierBoxPlot=[]\n",
    "\n",
    "# for nilaiPenjualan in df[\"penjualan\"]:\n",
    "#     listUjiOutlierBoxPlot.append(box_plot_outlier(df,\"penjualan\",nilaiPenjualan))\n",
    "\n",
    "# cara list comprehension\n",
    "\n",
    "listUjiOutlierBoxPlot=[box_plot_outlier(dfClean,\"penjualan\",nilaiPenjualan) for nilaiPenjualan in dfClean[\"penjualan\"]]\n",
    "\n",
    "dfClean[\"uji_outliers_box_plot_pada_penjualan\"]=listUjiOutlierBoxPlot\n",
    "dfClean"
   ]
  },
  {
   "cell_type": "code",
   "execution_count": null,
   "metadata": {},
   "outputs": [],
   "source": [
    "# Uji Outliers nilai pertumbuhan dengan Box Plot\n",
    "def box_plot_outlier (dfClean, namaKolomUji, nilaiDiuji):\n",
    "    quartileBawah=dfClean[namaKolomUji].quantile(0.25)\n",
    "    quartileAtas=dfClean[namaKolomUji].quantile(0.75)\n",
    "    jangkauanInterQuartile=quartileAtas-quartileBawah\n",
    "    if nilaiDiuji>((1.5*jangkauanInterQuartile)+quartileAtas) or nilaiDiuji<(quartileBawah-(1.5*jangkauanInterQuartile)):\n",
    "        return \"Outlier\"\n",
    "    else:\n",
    "        return \"Bukan Outlier\"\n",
    "\n",
    "# cara for..loop\n",
    "# listUjiOutlierBoxPlot=[]\n",
    "\n",
    "# for angkaPertumbuhan in df[\"pertumbuhan\"]:\n",
    "#     listUjiOutlierBoxPlot.append(box_plot_outlier(df,\"pertumbuhan\",angkaPertumbuhan))\n",
    "\n",
    "# cara list comprehension\n",
    "\n",
    "listUjiOutlierBoxPlot=[box_plot_outlier(dfClean,\"pertumbuhan\",angkaPertumbuhan) for angkaPertumbuhan in dfClean[\"pertumbuhan\"]]\n",
    "\n",
    "dfClean[\"uji_outliers_box_plot_pada_pertumbuhan\"]=listUjiOutlierBoxPlot\n",
    "dfClean"
   ]
  },
  {
   "cell_type": "code",
   "execution_count": null,
   "metadata": {},
   "outputs": [],
   "source": [
    "#ekstrak kecamatan dan kota dari alamat\n",
    "\n",
    "listKecamatan=[]\n",
    "listKota=[]\n",
    "\n",
    "for alamat in dfClean[\"alamat\"]:\n",
    "    alamatArray=str(alamat).split(\",\")\n",
    "    kecamatan=alamatArray[0]\n",
    "    kota=alamatArray[1]\n",
    "    listKecamatan.append(kecamatan)\n",
    "    listKota.append(kota)\n",
    "\n",
    "dfClean[\"kecamatan\"]=listKecamatan\n",
    "dfClean[\"kota\"]=listKota\n",
    "dfClean"
   ]
  },
  {
   "cell_type": "code",
   "execution_count": null,
   "metadata": {},
   "outputs": [],
   "source": [
    "#membuat label untuk kategori yang memiliki nilai\n",
    "\n",
    "labelKategori={\"tinggi\":2,\"sedang\":1,\"rendah\":0}\n",
    "dfClean[\"kategori_penjualan_enc\"]=dfClean[\"kategori_penjualan\"].map(labelKategori)\n",
    "dfClean[\"kategori_pertumbuhan_enc\"]=dfClean[\"kategori_pertumbuhan\"].map(labelKategori)\n",
    "labelKelas={\"> 500 juta\":2,\"100 - 500 juta\":1,\"< 100 juta\":0}\n",
    "dfClean[\"kelas_penjualan_enc\"]=dfClean[\"kelas_penjualan\"].map(labelKelas)\n",
    "dfClean"
   ]
  },
  {
   "cell_type": "code",
   "execution_count": null,
   "metadata": {},
   "outputs": [],
   "source": [
    "#membuat label untuk kategori nama\n",
    "\n",
    "# load library\n",
    "from sklearn.preprocessing import LabelEncoder\n",
    "\n",
    "# inisiasi encoder\n",
    "le = LabelEncoder()\n",
    "\n",
    "# fiting dan transform ke model\n",
    "dfClean[\"jenis_pelanggan_enc\"] = le.fit_transform(dfClean[\"jenis_pelanggan\"])\n",
    "dfClean[\"status_modal_enc\"] = le.fit_transform(dfClean[\"status_modal\"])\n",
    "dfClean[\"kecamatan_enc\"] = le.fit_transform(dfClean[\"kecamatan\"])\n",
    "dfClean[\"kota_enc\"] = le.fit_transform(dfClean[\"kota\"])\n",
    "dfClean"
   ]
  },
  {
   "cell_type": "code",
   "execution_count": null,
   "metadata": {},
   "outputs": [],
   "source": [
    "# Implementasi One Hot Encoder untuk kategori nama\n",
    "# load library\n",
    "from sklearn.preprocessing import OneHotEncoder\n",
    "\n",
    "def applyOHC(df,namaKolom):\n",
    "    # inisiasi encoder\n",
    "    ohc = OneHotEncoder(handle_unknown='ignore')\n",
    "\n",
    "    # fit dan transform\n",
    "    new_features = ohc.fit_transform(dfClean[[namaKolom]])\n",
    "\n",
    "    # masukan ke dataframe hasilnya\n",
    "    cols_name= [x for x in dfClean[namaKolom].unique()]\n",
    "    df_result = pd.DataFrame(new_features.toarray(), columns=cols_name)\n",
    "    return df_result\n",
    "\n",
    "dfJenisPelangganOHC=applyOHC(dfClean,\"jenis_pelanggan\")\n",
    "dfStatusModalOHC=applyOHC(dfClean,\"status_modal\")\n",
    "dfKecamatanOHC=applyOHC(dfClean,\"kecamatan\")\n",
    "dfKotaOHC=applyOHC(dfClean,\"kota\")\n",
    "dfClean=pd.concat([dfClean,dfJenisPelangganOHC,dfStatusModalOHC,dfKecamatanOHC,dfKotaOHC], axis=1)\n",
    "dfClean"
   ]
  },
  {
   "cell_type": "code",
   "execution_count": null,
   "metadata": {},
   "outputs": [],
   "source": [
    "dfClean.info()"
   ]
  },
  {
   "cell_type": "code",
   "execution_count": null,
   "metadata": {},
   "outputs": [],
   "source": [
    "# Mengubah tipe data kolom 25-39 menjadi integer\n",
    "dfClean.iloc[:, 25:40] = dfClean.iloc[:, 25:40].astype(int)\n",
    "dfClean"
   ]
  },
  {
   "cell_type": "code",
   "execution_count": null,
   "metadata": {},
   "outputs": [],
   "source": [
    "#lihat semuan nama columns\n",
    "\n",
    "df.columns"
   ]
  },
  {
   "cell_type": "code",
   "execution_count": null,
   "metadata": {},
   "outputs": [],
   "source": [
    "#kolom yang akan disimpan\n",
    "\n",
    "kolomDisimpan = [\n",
    "    \"penjualan\",\n",
    "    \"pertumbuhan\",\n",
    "    \"kategori_penjualan_enc\",\n",
    "    \"kategori_pertumbuhan_enc\",\n",
    "    \"kelas_penjualan_enc\",\n",
    "    \"perusahaan\",\n",
    "    \"individu\",\n",
    "    \"LN\",\n",
    "    \"DN\",\n",
    "    \"kecamatan_enc\",\n",
    "    \"kota_enc\"\n",
    "]\n",
    "df=df[kolomDisimpan]\n",
    "df"
   ]
  },
  {
   "cell_type": "markdown",
   "metadata": {},
   "source": [
    "# Data Latihan 2 (Opsional)"
   ]
  },
  {
   "cell_type": "code",
   "execution_count": null,
   "metadata": {},
   "outputs": [],
   "source": [
    "# load dataset excel\n",
    "\n",
    "filepath = \"https://github.com/kelvingrovebrothers/Data_Preparation/raw/main/Data_Rumah_Wishnu_ed.xlsx\"\n",
    "dfXls = pd.read_excel(filepath, index_col=0)\n",
    "dfXls.info()\n",
    "dfXls\n",
    "# dfXls[2:11]"
   ]
  }
 ],
 "metadata": {
  "kernelspec": {
   "display_name": "Python 3 (ipykernel)",
   "language": "python",
   "name": "python3"
  },
  "language_info": {
   "codemirror_mode": {
    "name": "ipython",
    "version": 3
   },
   "file_extension": ".py",
   "mimetype": "text/x-python",
   "name": "python",
   "nbconvert_exporter": "python",
   "pygments_lexer": "ipython3",
   "version": "3.11.3"
  }
 },
 "nbformat": 4,
 "nbformat_minor": 2
}
